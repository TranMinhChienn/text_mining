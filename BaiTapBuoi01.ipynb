{
  "nbformat": 4,
  "nbformat_minor": 0,
  "metadata": {
    "colab": {
      "provenance": []
    },
    "kernelspec": {
      "name": "python3",
      "display_name": "Python 3"
    },
    "language_info": {
      "name": "python"
    }
  },
  "cells": [
    {
      "cell_type": "code",
      "execution_count": 18,
      "metadata": {
        "id": "X0k4MlF-jG1W"
      },
      "outputs": [],
      "source": [
        "import nltk # thư viện sử lý ngôn ngữ tự nhiên\n",
        "from nltk.corpus import stopwords\n",
        "from nltk.tokenize import word_tokenize\n",
        "from collections import Counter\n",
        "import string"
      ]
    },
    {
      "cell_type": "code",
      "source": [
        "nltk.download('punkt')\n",
        "nltk.download('stopwords')\n",
        "nltk.download('punk_tap')"
      ],
      "metadata": {
        "colab": {
          "base_uri": "https://localhost:8080/"
        },
        "id": "7tHoNlEyjxtE",
        "outputId": "c487f261-cff3-4f7c-af01-28c436a2c1ef"
      },
      "execution_count": 19,
      "outputs": [
        {
          "output_type": "stream",
          "name": "stderr",
          "text": [
            "[nltk_data] Downloading package punkt to /root/nltk_data...\n",
            "[nltk_data]   Package punkt is already up-to-date!\n",
            "[nltk_data] Downloading package stopwords to /root/nltk_data...\n",
            "[nltk_data]   Package stopwords is already up-to-date!\n",
            "[nltk_data] Error loading punk_tap: Package 'punk_tap' not found in\n",
            "[nltk_data]     index\n"
          ]
        },
        {
          "output_type": "execute_result",
          "data": {
            "text/plain": [
              "False"
            ]
          },
          "metadata": {},
          "execution_count": 19
        }
      ]
    },
    {
      "cell_type": "code",
      "source": [
        "def preprocess(text):\n",
        "    # Chuyển text về chữ thường\n",
        "    text = text.lower()\n",
        "    # Loại bỏ dấu câu\n",
        "    text = text.translate(str.maketrans('', '', string.punctuation))\n",
        "    # Tách text thành danh sách các từ\n",
        "    tokens = text.split()\n",
        "    # Lấy danh sách stopwords\n",
        "    stop_words = set(stopwords.words('english'))\n",
        "    # Lọc bỏ stopwords\n",
        "    filtered_tokens = [word for word in tokens if word not in stop_words]\n",
        "    return filtered_tokens"
      ],
      "metadata": {
        "id": "zm7Y3Y7Alr8A"
      },
      "execution_count": 24,
      "outputs": []
    },
    {
      "cell_type": "code",
      "source": [
        "text =\" The cat sat on the mat. The cat was a small cat, a cat with white fur. The mat was soft, and the cat liked the mat. Every morning, the cat sat on the mat and looked out the window. The cat saw birds, and the cat wanted to chase the birds. But the cat stayed on the mat because the cat liked the mat.One day, a dog came into the house. The dog saw the cat, and the cat saw the dog. The dog was big, and the cat was small. The dog barked, but the cat did not move. The cat stayed on the mat. The dog wanted to play, but the cat wanted to rest. The dog ran around, but the cat stayed still.At night, the cat and the dog slept. The dog slept on the floor, and the cat slept on the mat. The cat loved the mat, and the cat would always sleep on the mat.\"\n",
        "processed_tokens = preprocess(text)"
      ],
      "metadata": {
        "id": "0p5xR-sUni6g"
      },
      "execution_count": 25,
      "outputs": []
    },
    {
      "cell_type": "code",
      "source": [
        "# Tính tần suất xuất hiện của các từ\n",
        "frequency = Counter(processed_tokens)  # Counter sẽ đếm số lần xuất hiện của mỗi từ\n",
        "\n",
        "# In ra 6 từ có tần suất xuất hiện cao nhất\n",
        "print(\"Các từ xuất hiện nhiều nhất:\")\n",
        "for word, count in frequency.most_common(6):  # most_common(n) trả về n từ có tần suất cao nhất\n",
        "    print(f\"{word}: {count}\")"
      ],
      "metadata": {
        "colab": {
          "base_uri": "https://localhost:8080/"
        },
        "id": "K9wrlvoauB-M",
        "outputId": "59fba699-6350-457c-977e-e39dbe64f420"
      },
      "execution_count": 26,
      "outputs": [
        {
          "output_type": "stream",
          "name": "stdout",
          "text": [
            "Các từ xuất hiện nhiều nhất:\n",
            "cat: 21\n",
            "mat: 9\n",
            "dog: 9\n",
            "saw: 3\n",
            "wanted: 3\n",
            "stayed: 3\n"
          ]
        }
      ]
    }
  ]
}